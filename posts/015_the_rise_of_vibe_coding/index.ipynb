{
 "cells": [
  {
   "cell_type": "raw",
   "id": "ceb26b6d-d77d-4a43-8a72-f9758596005e",
   "metadata": {},
   "source": [
    "---\n",
    "title: \"The Rise of Vibe Coding\"\n",
    "description: \"The newest buzz word\"\n",
    "author: \"Michael Li\"\n",
    "date: \"4/20/2025\"\n",
    "categories:\n",
    "  - Coding\n",
    "  - Prompting\n",
    "  - AI Investigation\n",
    "---"
   ]
  },
  {
   "attachments": {},
   "cell_type": "markdown",
   "id": "6e2667d7-cc2c-45c7-a420-7b453a3afe03",
   "metadata": {},
   "source": [
    "# The Rise of Vibe Coding:\n",
    "\n",
    "![](https://miro.medium.com/v2/resize:fit:1400/0*bzTYo0ZP0aMw-LQK)\n",
    "\n",
    "For those who have felt like coding was more about the vibe than the syntax, welcome to the world of vibe coding, where you describe what you want in natural languag, and AI does the heavy lifting.\n",
    "\n",
    "## What's the Deal with Vibe Coding?\n",
    "Coined by AI expert Andrej Karpathy in early 2025, vibe coding flips traditional programming on its head. Instead of meticulously writing every line of code, you simply tell an AI what you're aiming for, and it generates the code for you. Karpathy described it as:\n",
    "> \"I just see stuff, say stuff, run stuff, and copy-paste stuff, and it mostly works.\" \n",
    "\n",
    "It's like having a conversation with your computer, where your ideas become functional software without diving deep into the complex details of programming languages.\n",
    "\n",
    "\n",
    "\n",
    "## Why It's Catching On\n",
    "His term has recently taken off, especially with mainstream audiences learning more about tools like Cursor, Lovable, Bolt, etc.\n",
    "\n",
    "The tool also allows for:\n",
    "* Speedy Prototyping: Got an app idea? Describe it, and let the AI build a prototype in minutes.\n",
    "* Accessibility: You don't need to be a seasoned developer. If you can articulate your idea, you can build it.\n",
    "* Focus on Creativity: Spend more time on the what and why, and less on the how.\n",
    "\n",
    "\n",
    "## However... the Flip Side\n",
    "It's not all sunshine and rainbows:\n",
    "* Understanding Gaps: Relying solely on AI can mean you don't fully grasp the code, leading to potential issues down the line.\n",
    "* Debugging Dilemmas: If something breaks, and you didn't write the code, fixing it can be a challenge, especially to the untrained eye.\n",
    "* Security Concerns: Without a deep understanding, you might miss vulnerabilities. Seriously, my friend was building a tool to find security vulnerabilities within AI coded applications; essentially, a red-teaming platform for AI code.\n",
    "\n",
    "Note: AI researcher Simon Willison points out that if you're reviewing and understanding the AI-generated code, it's not vibe coding, it's just using AI as an assistant. So don't mix up the two if you're a developer getting pushed around by the \"vibe coding\" term.\n",
    "\n",
    "## Takeaway\n",
    "I know I am typiclaly pretty skeptical on things, but I think vibe coding in moderation is great! It democraticizes code development and allows people to flex their creativeity and build something simple, fast. However, I think the fundementals of coding knowledge won't ever be replaced, and vibe coders have a ceiling in terms of the content they're able to produce. I'd also never trust a vibe coder to create a production level application. It's always fun to see what people make though :)\n",
    "\n",
    "\n",
    "\n"
   ]
  },
  {
   "cell_type": "code",
   "execution_count": null,
   "id": "2b7cae1e-8e19-483d-96ff-e8cabcaf1847",
   "metadata": {},
   "outputs": [],
   "source": []
  }
 ],
 "metadata": {
  "citation-manager": {
   "items": {}
  },
  "kernelspec": {
   "display_name": "Python 3 (ipykernel)",
   "language": "python",
   "name": "python3"
  },
  "language_info": {
   "codemirror_mode": {
    "name": "ipython",
    "version": 3
   },
   "file_extension": ".py",
   "mimetype": "text/x-python",
   "name": "python",
   "nbconvert_exporter": "python",
   "pygments_lexer": "ipython3",
   "version": "3.10.12"
  }
 },
 "nbformat": 4,
 "nbformat_minor": 5
}
