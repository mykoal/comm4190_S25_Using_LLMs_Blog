{
 "cells": [
  {
   "cell_type": "raw",
   "id": "ceb26b6d-d77d-4a43-8a72-f9758596005e",
   "metadata": {},
   "source": [
    "---\n",
    "title: \"How do we 'Measure' an LLM\"\n",
    "description: \"Evaluating Large Language Models: A Closer Look at Benchmarks\"\n",
    "author: \"Michael Li\"\n",
    "date: \"2/23/2025\"\n",
    "categories:\n",
    "  - LLMs\n",
    "  - prompting\n",
    "  - logic\n",
    "---"
   ]
  },
  {
   "cell_type": "markdown",
   "id": "80fcafe4-1e7a-4f7d-afd7-e7002497e953",
   "metadata": {},
   "source": [
    "## Evaluating Large Language Models: A Closer Look at Benchmarks\n",
    "Large Language Models like GPT-4 and Clause have taken the tech world by storm, with an abundance of uses. But I've been wondering... how do we measure their true capabilities and limitations? The answer?: Benchmarks. They serve as standardized tests, offering everyone a common ground to compare models and assess how well they perform on various tasks.\n",
    "\n",
    "In this post, I’ll examine how LLM benchmarks are created, who designs them, some of the most popular benchmarks available, and key critiques around their use in research and industry."
   ]
  },
  {
   "cell_type": "markdown",
   "id": "a0ad4874-6b5b-49e6-9c51-eb532d09fb53",
   "metadata": {},
   "source": [
    "### What Are Benchmarks, and Why Do They Matter?\n",
    "In machine learning, a benchmark is a dataset or collection of tasks, paired with an evaluation metric, that is designed to test and compare models under the same conditions (Raji et al., 2021). It's almost like a final exam for an LLM: everyone sits the same test, and we see who scores best. This approach ensures objectivity and repeatability... two critical requirements in science.\n",
    "\n",
    "**Why do we need them?**\n",
    "\n",
    "* Comparison: Benchmarks allow researchers to pit different LLMs against each other with consistent scoring (Hendrycks et al., 2020).\n",
    "\n",
    "* Progress Tracking: Over time, improvements in benchmark scores reflect broader strides in model performance (Brown et al., 2020).\n",
    "\n",
    "* Identifying Weaknesses: If an LLM consistently stumbles on a subset of benchmark tasks (e.g., advanced math), it highlights where further model tuning is needed (Cobbe et al., 2021).\n",
    "\n",
    "* Driving Innovation: By setting a high bar, benchmarks inspire competition, spurring new techniques and architectures."
   ]
  },
  {
   "cell_type": "markdown",
   "id": "5b97aef3-f421-4ff5-b5ea-119a13c0dec7",
   "metadata": {},
   "source": [
    "### Who Designs Benchmarks and How Do They Do It?\n",
    "Benchmarks often emerge from academic research groups, industry labs, or collaborative efforts involving both. For instance, OpenAI introduced the HumanEval dataset for code generation, while Stanford University has developed HELM to evaluate LLMs across multiple dimensions (Liang et al., 2022).\n",
    "\n",
    "#### Key Steps in Benchmark Creation\n",
    "1. **Define the Scope:** Developers clarify what skill or capability they want to test, for example, reading comprehension, code generation, multilingual reasoning.\n",
    "\n",
    "2. **Collect or Curate Data:** Benchmarks might use pre-existing datasets (like exam questions) or craft entirely new ones to ensure originality (Chen et al., 2021).\n",
    "\n",
    "3. **Ensure Quality & Difficulty:** Each test item is screened for clarity and appropriately labeled with the correct answer or ground truth.\n",
    "\n",
    "4. **Minimize Leakage:** Designers try to confirm that the tasks aren’t already present in a model’s training set, preventing memorization from contaminating results. (think of taking an exam after seeing the answers before the exam)\n",
    "\n",
    "5. **Define Metrics:** Accuracy, F1 score, pass rate on coding tasks... whatever metric is best suited for the task at hand (Ouyang et al., 2022).\n",
    "\n",
    "6. **Document & Publish:** A final report or paper outlines the methodology, baseline results, and reference scores. The dataset is released so others can replicate or build on it."
   ]
  },
  {
   "cell_type": "markdown",
   "id": "48501258-c2a2-4929-b5cc-bccd7e1e17d4",
   "metadata": {},
   "source": [
    "### Popular Benchmarks\n",
    "1. **BIG-bench**\n",
    "\n",
    "BIG-bench (Beyond the Imitation Game Benchmark) is a large-scale, community-driven initiative featuring over 200 tasks ranging from logic puzzles to code generation (BIG-Bench Collaboration, 2022). Its diversity helps expose strengths and weaknesses across different problem domains.\n",
    "\n",
    "> Example Task: A puzzle that tests analogical reasoning might ask the model to spot which word doesn’t fit a certain pattern. By seeing if the model picks the correct answer more often than random guessing, researchers gauge its capacity for logical inference.\n",
    "\n",
    "2. **MMLU**\n",
    "\n",
    "Developed by Hendrycks et al. (2020), MMLU (Massive Multitask Language Understanding) covers 57 subjects, from elementary math to law. It primarily uses MCQ to assess the model’s knowledge. Scores are often reported alongside human baselines—for instance, advanced LLMs can now approach or surpass the average human test-taker’s performance in certain subject areas.\n",
    "\n",
    "> Example Task: A physics question might require recognizing a specific law (like Newton’s second law) and applying it correctly in a scenario. If a model is well-trained (and not simply memorizing questions), it should reason through the question step by step.\n",
    "\n",
    "3. **HumanEval**\n",
    "\n",
    "HumanEval (Chen et al., 2021) targets code generation abilities. It contains 164 Python tasks with corresponding unit tests. The model’s output is a piece of code, and the benchmark checks how many solutions pass all the tests.\n",
    "\n",
    "> Example Task: “Write a function that takes a list of integers and returns the average value.” The model’s code must run correctly for all test cases, which might include edge cases like an empty list or negative numbers.\n",
    "\n",
    "4. **HELM**\n",
    "\n",
    "HELM (Holistic Evaluation of Language Models) goes beyond single-metric benchmarks (Liang et al., 2022). It evaluates accuracy, robustness, fairness, bias, calibration, and efficiency across multiple scenarios. This multi-dimensional approach aims to give a nuanced view of a model’s real-world performance.\n",
    "\n",
    "> Example: Instead of just measuring correctness on a QA task, HELM also looks at bias indicators in model outputs. That way, you see how well the model performs technically and whether it produces problematic content."
   ]
  },
  {
   "cell_type": "markdown",
   "id": "8a42738f-82ea-4600-9c5d-b15902ab4cba",
   "metadata": {},
   "source": [
    "### Common Critiques\n",
    "1. **Data Leakage**\n",
    "\n",
    "With LLMs trained on massive datasets, there’s a risk that some benchmark questions appear in training corpora (Magar and Schwartz, 2022). This can artificially inflate scores.\n",
    "\n",
    "2. **Overfitting to Benchmarks**\n",
    "\n",
    "Developers might optimize models for popular tests (like MMLU or HumanEval), boosting public leaderboard scores but not necessarily real-world skills (Raji et al., 2021).\n",
    "\n",
    "3. **Limited Coverage**\n",
    "\n",
    "Many benchmarks focus on English or specific domains, failing to represent global linguistic or cultural diversity (Bender, 2019).\n",
    "\n",
    "4. **Benchmark Saturation**\n",
    "\n",
    "Advanced models are hitting or surpassing human-level performance on older benchmarks—prompting a constant cycle of creating new, harder tests (Brown et al., 2020).\n",
    "\n"
   ]
  },
  {
   "cell_type": "markdown",
   "id": "9c65279b-ca29-4b03-a7cb-408456c75013",
   "metadata": {},
   "source": [
    "### Final Thoughts\n",
    "Benchmarks have proven quite useful for comparing and improving LLMs, encouraging measurable progress and hihglighting areas needing refinement. Yet no single benchmark fully captures the complexity of language and text generation. Pragmatically, to move forward, dynamic, holistic evaluation frameworks (like HELM) may set the standard; however, personally, it seems like AI is perpetually chasing after (and imitating) unrealistic goals which are distinctly unique, stemming from human creativity. "
   ]
  },
  {
   "cell_type": "markdown",
   "id": "3c0e6428-d040-45cf-b1b8-ca725921d780",
   "metadata": {},
   "source": [
    "### References\n",
    "\n",
    "* Bender, E. (2019). Linguistically Naïve Benchmarking in NLP. Proceedings of ACL.\n",
    "\n",
    "* BIG-Bench Collaboration. (2022). Beyond the Imitation Game Benchmark (BIG-Bench). arXiv:2206.04615.\n",
    "\n",
    "* Brown, T., et al. (2020). Language Models are Few-Shot Learners. arXiv:2005.1416.\n",
    "\n",
    "* Chen, M., et al. (2021). Evaluating Large Language Models Trained on Code. arXiv:2107.03374.\n",
    "\n",
    "* Cobbe, K., et al. (2021). Training Verifiers to Solve Math Word Problems. arXiv:2110.14168. \n",
    "\n",
    "* Hendrycks, D., et al. (2020). Measuring Massive Multitask Language Understanding. arXiv:2009.03300.\n",
    "\n",
    "* Liang, P., et al. (2022). Holistic Evaluation of Language Models (HELM). Stanford CRFM. arXiv:2211.09110.\n",
    "\n",
    "* Magar, S., & Schwartz, R. (2022). Data Contamination: From Memorization to Exploitation. arXiv:2203.08242.\n",
    "\n",
    "* Ouyang, X., et al. (2022). Training Language Models to Follow Instructions with Human Feedback. arXiv:2203.02155.\n",
    "\n",
    "* Raji, I. D., et al. (2021). AI and the Everything in the Whole Wide World Benchmark. FAccT. arXiv:2111.15366."
   ]
  }
 ],
 "metadata": {
  "citation-manager": {
   "items": {}
  },
  "kernelspec": {
   "display_name": "Python 3 (ipykernel)",
   "language": "python",
   "name": "python3"
  },
  "language_info": {
   "codemirror_mode": {
    "name": "ipython",
    "version": 3
   },
   "file_extension": ".py",
   "mimetype": "text/x-python",
   "name": "python",
   "nbconvert_exporter": "python",
   "pygments_lexer": "ipython3",
   "version": "3.10.12"
  }
 },
 "nbformat": 4,
 "nbformat_minor": 5
}
