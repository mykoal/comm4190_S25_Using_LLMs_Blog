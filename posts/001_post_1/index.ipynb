{
 "cells": [
  {
   "cell_type": "raw",
   "id": "ceb26b6d-d77d-4a43-8a72-f9758596005e",
   "metadata": {},
   "source": [
    "---\n",
    "title: \"Generating a Profile Picture\"\n",
    "description: \"Playing with Dall-e\"\n",
    "author: \"Michael Li\"\n",
    "date: \"2/4/2024\"\n",
    "categories:\n",
    "  - Dall-E\n",
    "---"
   ]
  },
  {
   "cell_type": "markdown",
   "id": "b4d6f99f-16e9-4a85-9820-513305b40441",
   "metadata": {},
   "source": [
    "## Generating my Profile Picture\n",
    "\n",
    "While looking through the Blog content, I was drawn to the idea of generating my own profile pictur using Dall-E 3. I immediately looked into generating my profile picture through some Python scripts in a notebook, but unfortunately, a lot of the documentation I was reviewing for image generation ended up being outdated (curse you openai updates>=1.0.0). I thought it'd be way cooler to run a blog with code that I personally wrote, but I'll be using Dall-E 3 in OpenAI's native web app with the 4o model."
   ]
  },
  {
   "cell_type": "markdown",
   "id": "968a056b-b19c-423f-92f7-1700412a09f9",
   "metadata": {},
   "source": [
    "### Who Am I?\n",
    "To begin, I wanted to explore how Dall-E 3 percieved me based on a few personal details, and build from there.\n",
    "\n",
    "So, who am I?:\n",
    "\n",
    "I’m an Asian college man in my 21s studying computer science and communications. I have an orange cat and enjoy swimming. I want my profile picture to reflect these parts of my identity. \n",
    "\n",
    "Thus, I had GPT 4o prompt engineer the text below for an optimized image of who I described myself to be above:\n",
    "\n",
    "```\n",
    "A portrait of an Asian college man in his 21s who is a CS and communications major, with an orange cat by his side and a hint of water in the background symbolizing his love for swimming. Realistic digital art, warm lighting.\n",
    "```\n",
    "\n",
    "Output:\n",
    "<img src=\"pfp1.png\" width=\"25%\"/>\n"
   ]
  },
  {
   "attachments": {},
   "cell_type": "markdown",
   "id": "7c6ad7f8-780b-4d09-9eeb-b4925024b215",
   "metadata": {},
   "source": [
    "This image is a good starting point, but it feels a bit generic. I’d like to inject more personality and a stylized look.\n",
    "\n",
    "I now wanted to refine the prompt to specify a more modern, digital illustration style that brings out my personality leading to prompt 2:\n",
    "\n",
    "```\n",
    "A modern digital illustration of an Asian college man in his 21s, majoring in computer science and communications, accompanied by his vibrant orange cat. The background subtly hints at swimming with abstract water elements. Minimalist design, bold lines, and a clean vector style.\n",
    "```\n",
    "\n",
    "Output:\n",
    "<img src=\"pfp2.png\" width=\"25%\"/>\n",
    "\n"
   ]
  },
  {
   "cell_type": "markdown",
   "id": "10737e7c-712a-46b1-bff3-ecd5a79a205e",
   "metadata": {},
   "source": [
    "I appreciate the crisp vector look, and the text is a nice touch. It even made the ears pierced haha. Now, let's try something with richer details, like a painting style. Thus, we are lead to prompt 3:\n",
    "\n",
    "```\n",
    "A digital painting of an Asian college man in his 21s who studies computer science and communications, with his friendly orange cat by his side. The scene is set with a serene background featuring a swimming pool and gentle water reflections, evoking a sense of calm and creativity. Rich, warm color palette and artistic brushstrokes.\n",
    "```\n",
    "\n",
    "Output:\n",
    "<img src=\"pfp3.png\" width=\"25%\"/>\n",
    "\n"
   ]
  },
  {
   "cell_type": "markdown",
   "id": "f836d8d1-0f8f-4d05-b5a5-b42d674d32a6",
   "metadata": {},
   "source": [
    "Reflecting on this, I tried to avoid changing any details pertaining to the generated 'asian male'. Note that in each generation, the facial features are relatively similar, with the same exact haircut (same hair part too lol). \n",
    "\n",
    "## Deciding Upon a Profile Picture\n",
    "\n",
    "Honestly, none of the images spoke to me very much due to their lack of ability to identify how I personally looked. It's okay though! I've decided on something a little different (and better):\n",
    "\n",
    "<img src=\"catgpt.png\" width=\"25%\"/>\n",
    "\n"
   ]
  }
 ],
 "metadata": {
  "citation-manager": {
   "items": {}
  },
  "kernelspec": {
   "display_name": "Python 3-12 (COMM4190)",
   "language": "python",
   "name": "python3-12_comm4190"
  },
  "language_info": {
   "codemirror_mode": {
    "name": "ipython",
    "version": 3
   },
   "file_extension": ".py",
   "mimetype": "text/x-python",
   "name": "python",
   "nbconvert_exporter": "python",
   "pygments_lexer": "ipython3",
   "version": "3.12.8"
  }
 },
 "nbformat": 4,
 "nbformat_minor": 5
}
