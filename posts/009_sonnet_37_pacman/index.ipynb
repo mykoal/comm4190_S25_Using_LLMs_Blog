{
 "cells": [
  {
   "cell_type": "raw",
   "id": "ceb26b6d-d77d-4a43-8a72-f9758596005e",
   "metadata": {},
   "source": [
    "---\n",
    "title: \"Claude Sonnet 3.7 Programs Pac-Man\"\n",
    "description: \"Revisiting Blog #2: One Prompt. One Response. How does Claude Sonnet 3.7 fare against the PacMan prompt?\"\n",
    "author: \"Michael Li\"\n",
    "date: \"3/3/2025\"\n",
    "categories:\n",
    "  - LLMs\n",
    "  - prompting\n",
    "  - logic\n",
    "---"
   ]
  },
  {
   "cell_type": "markdown",
   "id": "9c2a3e52-ab93-4936-939a-03f9053be0ec",
   "metadata": {},
   "source": [
    "\n",
    "\n",
    "## Revisiting Blog #2 \n",
    "\n",
    "As of February 24th, Anthropic released their new iteration of Claude Sonnet, the 3.7 model. In blog #8, I had Clause Sonnet 3.7 attempt the physics prompt. This time around, I wanted to see its ability to recreate Pac-Man in one prompt, similar to blog #2. Thus, I fed 3.7 the simple prompt used in blog #2, which encourages the model to be more creative and 'flex' more with its response.\n",
    "\n",
    "> Write a python script that creates a playable version of Pac-Man.\n",
    "\n",
    "### Slightly different than blog #8: OpenAI's Flagship Coding Model vs. Anthropics\n",
    "Since blog #2 only consisted of OpenAI's GPT models, I think it's more representative to compare o3-mini-high vs. Claude Sonnet 3.7.\n",
    "\n",
    "As a refresher, this is what o3-mini-high cooked up with the prompt compared to Claude Sonnet 3.7:\n",
    "\n",
    "#### o3-mini-high\n",
    "![](https://media2.giphy.com/media/v1.Y2lkPTc5MGI3NjExcDh6dGljMzlrcHV4bnlrdTV4em9jYXB3eDM2YzEwcTJyOThtOXdieiZlcD12MV9pbnRlcm5hbF9naWZfYnlfaWQmY3Q9Zw/OVGjYbej4RhPtBB5eb/giphy.gif)\n",
    "\n",
    "\n",
    "#### Claude Sonnet 3.7\n",
    "![](https://media3.giphy.com/media/v1.Y2lkPTc5MGI3NjExeGdmdHBtZGlodDF6d2YxM2x2Ync3OTYwYTZtZGRuM2x5NGMxdmtkeiZlcD12MV9pbnRlcm5hbF9naWZfYnlfaWQmY3Q9Zw/nLLjl5beYTvuvTQ6rP/giphy.gif)\n",
    "\n",
    "Right off the bat, I notice that Claude produced a more high fidelity version of Pac-Man. Claude incorporated PacMan mouth animations ghost graphics, and power up mechanics, all with a more 'realistic' map. However, it failed to reach usability, with the game being near impossible to play. Comparably, o3 got the fundementals down with game movement being incredibley smooth. Similarity wise, Claude blows o3 out the water, but failed to create a playable version. I believe with prompting, both models could get closer, but my hunch is that Claude does it better, especially after seeing how many prompts it took for o3 to get that far in blog #3.\n",
    "\n",
    "Also, I want to note that o3 wrote 465 lines of code and Claude wrote 449 lines, which are significant outputs given a short, open-ended prompt. Both sets of code were structured well, following modern programming practices like abstraction and modularity. Similar to my thoughts in the previous blog, I believe that these models are being trained towards perfecting coding tasks, similar to how a software engineer would complete it *(but infinitely more cheap and quick..., for better or for worse...)*.\n",
    "\n",
    "Honestly, it seems like they both have their strengthes and weaknesses in general code writing. There is definetely much testing to be done in terms of more detailed and specific prompts. I'll be playing around more with Sonnet 3.7 in the following weeks, so hopefully I'll have a better sense of comparison soon! (I usually code using GPT models). Will definetely write a blog in the future on a coding task using Sonnet 3.7, so stay tuned!\n"
   ]
  }
 ],
 "metadata": {
  "citation-manager": {
   "items": {}
  },
  "kernelspec": {
   "display_name": "Python 3 (ipykernel)",
   "language": "python",
   "name": "python3"
  },
  "language_info": {
   "codemirror_mode": {
    "name": "ipython",
    "version": 3
   },
   "file_extension": ".py",
   "mimetype": "text/x-python",
   "name": "python",
   "nbconvert_exporter": "python",
   "pygments_lexer": "ipython3",
   "version": "3.10.12"
  }
 },
 "nbformat": 4,
 "nbformat_minor": 5
}
