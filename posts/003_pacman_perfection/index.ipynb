{
 "cells": [
  {
   "cell_type": "raw",
   "id": "ceb26b6d-d77d-4a43-8a72-f9758596005e",
   "metadata": {},
   "source": [
    "---\n",
    "title: \"o3-mini Perfects PacMan\"\n",
    "description: \"A continuation of LLMs recreating PacMan\"\n",
    "author: \"Michael Li\"\n",
    "date: \"2/11/2024\"\n",
    "categories:\n",
    "  - LLMs\n",
    "  - prompting\n",
    "  - code\n",
    "---"
   ]
  },
  {
   "cell_type": "markdown",
   "id": "c73a9e24-6b58-4419-8a90-79dd8ecd94ad",
   "metadata": {},
   "source": [
    "## Where We Left Off\n",
    "\n",
    "o3 was the best performing model when tasked with recreating PacMan, but it still fell short when compared to traditional PacMan. Below is where we left off when o3-mini-high was prompted with:\n",
    "```\n",
    "Write a python script that creates a playable version of Pac-Man.\n",
    "```\n",
    "![](https://media2.giphy.com/media/v1.Y2lkPTc5MGI3NjExcDh6dGljMzlrcHV4bnlrdTV4em9jYXB3eDM2YzEwcTJyOThtOXdieiZlcD12MV9pbnRlcm5hbF9naWZfYnlfaWQmY3Q9Zw/OVGjYbej4RhPtBB5eb/giphy.gif)\n"
   ]
  },
  {
   "cell_type": "markdown",
   "id": "89f3383f-86e2-496c-803f-53db2402f8a7",
   "metadata": {},
   "source": [
    "## The Goal?\n",
    "Given more prompts, let's see if we're able to get to a more familiar version of PacMan shown below:\n",
    "\n",
    "![](https://media2.giphy.com/media/v1.Y2lkPTc5MGI3NjExZXN0NG0yNG5ncWp6cmhpNXNxNHpvaXdiZjluZ3NiMHZzcnR4OXJ0ZCZlcD12MV9pbnRlcm5hbF9naWZfYnlfaWQmY3Q9Zw/d9QiBcfzg64Io/giphy.gif)"
   ]
  },
  {
   "cell_type": "markdown",
   "id": "53e75922-fc08-4abe-bb32-6e503b6ab1f9",
   "metadata": {},
   "source": [
    "Continuing from my previous conversation with o3, I ran the prompt:\n",
    "\n",
    "> Let's improve this current implementation. I would like you to add a score functionality, bonus fruit, and a map that looks more like the original PacMan. Please also make PacMan, the ghost, and fruit have a more detailed design, similar to the original PacMan.\n",
    "\n",
    "The prompt took o3 **1m 54s** to complete.\n",
    "\n",
    "As you can see below, thy were able to implement an elementary design for both PacMan and the ghost. o3 also implemented a scoring system, with the larger pellets and bonus fruit present.\n",
    "\n",
    "One thing I wondered was why GPT's output so variable with the maze layouts (including the last blog post).\n",
    "\n",
    "![](https://media3.giphy.com/media/v1.Y2lkPTc5MGI3NjExbzRwbm1pcTdvYzM2eW95czlxNTFjc29qd3d1b2VscWpxcnprOGwybyZlcD12MV9pbnRlcm5hbF9naWZfYnlfaWQmY3Q9Zw/LJ4aeH7ujn8jvjGvQm/giphy.gif)"
   ]
  },
  {
   "cell_type": "markdown",
   "id": "6fa5ae03-a512-4fb7-970b-3a9b7bcc4a5d",
   "metadata": {},
   "source": [
    "Moving onward, I prompted o3 with:\n",
    "\n",
    "> The maze implementation does not properly reflect a PacMan maze, with multiple spots unreachable, and the cross screen functionality unimplemented. For example, when PacMan goes to  through the end of the left side, he should reappear at the end of the right side. Please implement this, while also changing all parts of the maze to be fully accessible and as similar to the original PacMan as possible.\n",
    "\n",
    "o3 thought for **1m 7s**.\n",
    "\n",
    "My rationale for this prompt was to try and establish proper maze layout and movement mechanics before moving onto refining other aspects of the game. The output seemed a slight improvement but it definitly wasn't similar to the \"original PacMan\".\n",
    "\n",
    "![](https://media4.giphy.com/media/v1.Y2lkPTc5MGI3NjExZmZ4bTQ3ejJhMTUyOTJlZnpteHY4N2Y0djVxNjM5NTUwaGtkenJ6MyZlcD12MV9pbnRlcm5hbF9naWZfYnlfaWQmY3Q9Zw/TEaqNL7Ie1pAU7b8q3/giphy.gif)"
   ]
  },
  {
   "cell_type": "markdown",
   "id": "0c15567a-de0d-4bf6-ab1d-7c2a5ee14ced",
   "metadata": {},
   "source": [
    "Good enough to move on though! Next my goal was to implement more ghost logic, particular the aspect of multiple ghosts. Thus, I ran the prompt:\n",
    "\n",
    "> Now, are you able to add a total of 4 ghosts that are let out of a cage in the center of the map incrementally, similar to actual PacMan, over a larger maze.\n",
    "\n",
    "o3 thought for **1m 43s**.\n",
    "\n",
    "It actually did a great job of implementing the \"spawning\" feature of the new ghosts, especially with the minimal instructions provided. However, I think my description of the 'cage in the center of the map' was intepreted as a physical block, which made the spawned ghosts trapped permenantly. This however is easily fixed with a manual change to the map, as described in the last blog post. I won't be editing the code manually though; I want to see if o3 is able to solve the problem if given a brief note of the problem in the next prompt.\n",
    "\n",
    "![](https://media0.giphy.com/media/v1.Y2lkPTc5MGI3NjExODR2Z3kzbHR1ZnA1YXZrczZhdDZrcmN5ejd5NXgxeGs3bmZyMDV5bCZlcD12MV9pbnRlcm5hbF9naWZfYnlfaWQmY3Q9Zw/0VSBssvJtUl1heiZ1X/giphy.gif)"
   ]
  },
  {
   "cell_type": "markdown",
   "id": "ad12c293-e6b0-4905-abec-7ed1777e39c2",
   "metadata": {},
   "source": [
    "Next, I wanted to implement some more ghost logic, particularly the power-up that allows PacMan to eat ghosts. I used the prompt: \n",
    "\n",
    "> The ghosts are trapped an unable to escape after being let out, create a new block that only ghosts can pass through to leave, but aren't able to pass through to enter. Also, make the large pellets temporarily allow PacMan to eat the ghosts upon collision, rather than losing the game, sending them back to the cage, similarly to the original PacMan. \n",
    "\n",
    "o3 thought for **1m 23s**.\n",
    "\n",
    "The power-up feature isn't show in the gif, but it works! However, it isn't very clear when PacMan is able to eat the ghosts, since nothing changes visually. The ghosts being let out isn't very clear visually either, as it seems they are able to leave through any wall in the middle. To fix this, I want to update some of the visuals with the next prompt. I also want to include a request on changing ghost behavior, having them randomly try to target PacMan, while also running away slower while PacMan is powered up.\n",
    "\n",
    "![](https://media2.giphy.com/media/v1.Y2lkPTc5MGI3NjExMndnNTB5OXhqNTBiMzN5Ym5lNXd3ZzVtNHBtcWZ4MnBjdG1rMGFoZyZlcD12MV9pbnRlcm5hbF9naWZfYnlfaWQmY3Q9Zw/JL1gbTs6WlIEHUNpJE/giphy.gif)\n",
    "\n"
   ]
  },
  {
   "cell_type": "markdown",
   "id": "edd7d135-cfad-49b1-8ef7-8ebd301a3d36",
   "metadata": {},
   "source": [
    "Since there was a lot of functionality I wanted implemented as described above, this was one of the more complex prompts I gave to o3:\n",
    "\n",
    "> Building upon this implementation, I would like you to edit ghost behavior. Make the ghosts attempt a move that will get them closer to PacMan 50% of the time, while leaving the other 50% of  movements to chance. I want you to also have the ghosts run away from PacMan when he is powered up, but also have their speed halved. There are also a lot of things we can change with the visuals. Make the ghost doors visually different than walls, make the ghosts blue when PacMan is powered up, and have PacMans mouth open and close as he moves, similar to the original PacMan.\n",
    "\n",
    "HOWEVER, o3 thought for **only 37s**.\n",
    "\n",
    "o3 was actually able to do everything I asked. When playing around, I noticed that the pathing algorithm wasn't the best, and the ghosts could get trapped in a corner because they were pathing towards PacMan without recognizing walls and optimal pathing, but that's a later problem. In general, o3 did a great job of emulating PacMan!\n",
    "\n",
    "![](https://media2.giphy.com/media/v1.Y2lkPTc5MGI3NjExb2Vvbmdxa3ltdjNjdGY1Zzc0dzg4Y29vNTVhYm12ZHJicWxlYjcwMSZlcD12MV9pbnRlcm5hbF9naWZfYnlfaWQmY3Q9Zw/StEeO8UzwSj9dO43kB/giphy.gif)"
   ]
  }
 ],
 "metadata": {
  "citation-manager": {
   "items": {}
  },
  "kernelspec": {
   "display_name": "Python 3 (ipykernel)",
   "language": "python",
   "name": "python3"
  },
  "language_info": {
   "codemirror_mode": {
    "name": "ipython",
    "version": 3
   },
   "file_extension": ".py",
   "mimetype": "text/x-python",
   "name": "python",
   "nbconvert_exporter": "python",
   "pygments_lexer": "ipython3",
   "version": "3.10.12"
  }
 },
 "nbformat": 4,
 "nbformat_minor": 5
}
