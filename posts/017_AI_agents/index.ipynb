{
 "cells": [
  {
   "cell_type": "raw",
   "id": "ceb26b6d-d77d-4a43-8a72-f9758596005e",
   "metadata": {},
   "source": [
    "---\n",
    "title: \"AI Agents: The Real Future\"\n",
    "description: \"From a AGI skeptic\"\n",
    "author: \"Michael Li\"\n",
    "date: \"5/7/2025\"\n",
    "categories:\n",
    "  - AI Investigation\n",
    "---"
   ]
  },
  {
   "attachments": {},
   "cell_type": "markdown",
   "id": "6e2667d7-cc2c-45c7-a420-7b453a3afe03",
   "metadata": {},
   "source": [
    "# AI Agents Are the Real DealAGI Can Wait\n",
    "\n",
    "While the tech world tries to sell you on Artificial General Intelligence (AGI), I believe the real gold is in AI agents that handle everyday tasks for us.\n",
    "\n",
    "## AGI: The Distant Dream\n",
    "AGI aims to replicate human intelligence in machines, enabling them to perform any intellectual task a human can. It's an exciting concept, but we're not there yet. AGI remains largely theoretical, with significant technical and ethical hurdles to overcome.\n",
    "\n",
    "## AI Agents: The Practical Powerhouses\n",
    "On the other hand, AI agents are already here, making our lives easier. These are specialized programs designed to perform specific tasks autonomously. Think of them as your digital assistants that can schedule meetings, manage emails, or even make purchases on your behalf.\n",
    "\n",
    "For instance, Visa is collaborating with AI developers to enable agents to make secure payments, allowing them to handle routine shopping tasks like ordering groceries or booking flights.\n",
    "\n",
    "![](https://www.allaboutai.com/wp-content/uploads/2025/05/Visa_Launches_AI_Agent_for_Seamless_Shopping_Payments_aaai.webp)\n",
    "\n",
    "## Why AI Agents Matter More Right Now\n",
    "1. Immediate Utility: AI agents are already integrated into various industries, enhancing productivity and efficiency. They're not just concepts; they're tools we use daily.\n",
    "\n",
    "2. Task Specialization: Unlike the broad ambitions of AGI, AI agents excel at specific tasks, making them more reliable for particular functions.\n",
    "\n",
    "3. Scalability: Businesses can deploy multiple AI agents across different departments, streamlining operations without the need for AGI-level capabilities.\n",
    "\n",
    "## The Bottom Line\n",
    "While AGI continues to be a fascinating area of research, AI agents are like the unsung heroes transforming our daily lives. They're the ones handling the nitty-gritty tasks, freeing us up to focus on what truly matters. So, while we keep an eye on the horizon for AGI, let's not overlook the practical power of AI agents that are already making a difference.\n",
    "\n",
    "I will personally be trying to integrate some AI agents into my life this summer (for coding IDEs & smart-home technologies). Looking forward to it!\n"
   ]
  },
  {
   "cell_type": "code",
   "execution_count": null,
   "id": "2b7cae1e-8e19-483d-96ff-e8cabcaf1847",
   "metadata": {},
   "outputs": [],
   "source": []
  }
 ],
 "metadata": {
  "citation-manager": {
   "items": {}
  },
  "kernelspec": {
   "display_name": "Python 3 (ipykernel)",
   "language": "python",
   "name": "python3"
  },
  "language_info": {
   "codemirror_mode": {
    "name": "ipython",
    "version": 3
   },
   "file_extension": ".py",
   "mimetype": "text/x-python",
   "name": "python",
   "nbconvert_exporter": "python",
   "pygments_lexer": "ipython3",
   "version": "3.10.12"
  }
 },
 "nbformat": 4,
 "nbformat_minor": 5
}
