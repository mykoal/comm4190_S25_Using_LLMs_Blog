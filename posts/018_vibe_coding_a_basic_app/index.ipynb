{
 "cells": [
  {
   "cell_type": "raw",
   "id": "ceb26b6d-d77d-4a43-8a72-f9758596005e",
   "metadata": {},
   "source": [
    "---\n",
    "title: \"Trying Out Vibe Coding\"\n",
    "description: \"Natural language into code almost feels like turning water into wine\"\n",
    "author: \"Michael Li\"\n",
    "date: \"5/10/2025\"\n",
    "categories:\n",
    "  - Python\n",
    "  - Coding\n",
    "---"
   ]
  },
  {
   "attachments": {},
   "cell_type": "markdown",
   "id": "6e2667d7-cc2c-45c7-a420-7b453a3afe03",
   "metadata": {},
   "source": [
    "# Professional Vibe Coder\n",
    "As discussed in an earlier blog, the rise of vibe coding is taking the tech world by storm. Since we've already discussed the concept before, we'll gloss over the details and get straight into trying it out. Honestly, the process similar to how I created my Physics and PacMan blogs, however, this time around there isn't a goal in mind. The task is simply to have GPT write something, with me asking for changes in plain language, pretending as if I have 0 experience.\n",
    "\n",
    "To be entirely fair, I'd also like to preface by saying typical vibe codes are larger projects, such as websites or full-stack apps; I unfortunately do not have the bandwidth to devote energy to a single blog, but check out my final project. I have a 'vibe-coded' IOS app interface screen recording that I share there.\n",
    "\n",
    "## GPT is my muse\n",
    "To begin, I asked GPT for some ideas, simple enough:\n",
    "> What are some simple local python app ideas with cool designs that you think should be made\n",
    "\n",
    "From there, it gave me several well thought out apps and I prompted it to choose one:\n",
    "> Help me program one of them step by step\n",
    "> \n",
    "> You decide, start with the steps in a local environmnet\n",
    "\n",
    "Easily enough, the output of the first app was below. I really like how friendly and straightforward the instructions were. I believe any beginner can copy paste code, but tiny things like setting up a directory may be more difficult and stump 0 domain knowledge coders (if you can even call them that haha).\n",
    "\n",
    "I also fully believe, if prompted to break down the individual mouse clicks for directions to set up the environment, GPT would output that.\n",
    "\n",
    "![](https://i.imgur.com/uPaGuye.png)\n",
    "\n",
    "## A personal touch\n",
    "Next, I wanted to experience adding my own personal touches, something vibe coders love tauting as a gamechanger. I already gave the LLM agency in picking the idea, so I asked:\n",
    "> Continue to implement. However, I'd like this app to be colored in Spring colors and have a UI inspired by flowers.\n",
    "\n",
    "And lo and behold...\n",
    "\n",
    "![](https://i.imgur.com/3oalyID.png)\n",
    "\n",
    "## Adding more complexity\n",
    "I keep asking GPT to continue implementing because it had fully developed a implementation plan and was going through it step by step. For the final prompt of this blog I asked:\n",
    "> Can you add more dynamic motion to the UI. Then continue.\n",
    "\n",
    "And it was able to do exactly that, while implementing the time ticking and two dynamic movements (the petals and colored time tracking border).\n",
    "\n",
    "\n",
    "![](https://i.imgur.com/Zni6nwA.gif)\n",
    "\n",
    "## Takeaway\n",
    "I'll keep it short and simple. Vibe coding is fun, but I can anticipate difficulty for those who don't understand system design. The code is definitely prone to bugs as well; however, GPT can help you debug them with varying success. I wouldn't trust any founder peddling a \"vibe-coded\" app though! :)"
   ]
  }
 ],
 "metadata": {
  "citation-manager": {
   "items": {}
  },
  "kernelspec": {
   "display_name": "Python 3 (ipykernel)",
   "language": "python",
   "name": "python3"
  },
  "language_info": {
   "codemirror_mode": {
    "name": "ipython",
    "version": 3
   },
   "file_extension": ".py",
   "mimetype": "text/x-python",
   "name": "python",
   "nbconvert_exporter": "python",
   "pygments_lexer": "ipython3",
   "version": "3.10.12"
  }
 },
 "nbformat": 4,
 "nbformat_minor": 5
}
